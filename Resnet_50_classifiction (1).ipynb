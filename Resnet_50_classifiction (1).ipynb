{
  "cells": [
    {
      "cell_type": "code",
      "execution_count": null,
      "metadata": {
        "id": "Fq8nQG_YoHsk"
      },
      "outputs": [],
      "source": [
        "import keras\n",
        "from keras.models import *\n",
        "from keras.layers import *\n",
        "from keras.optimizers import *\n",
        "from keras.preprocessing.image import ImageDataGenerator"
      ]
    },
    {
      "cell_type": "code",
      "execution_count": null,
      "metadata": {
        "id": "Kvn-ONEoSeZ2"
      },
      "outputs": [],
      "source": [
        "img_width, img_height=192,192\n",
        "input_shape=(img_height,img_width)\n",
        "train_data_dir='/content/drive/MyDrive/Explicit_Content Dataset/data'\n",
        "\n"
      ]
    },
    {
      "cell_type": "code",
      "source": [
        "batch_size=16;\n",
        "#Data augmentation\n",
        "datagen=ImageDataGenerator(\n",
        "    rescale=1./244,\n",
        "    validation_split=0.20,\n",
        ")\n",
        "train_generator=datagen.flow_from_directory(\n",
        "    train_data_dir,\n",
        "    target_size=(img_width,img_height),\n",
        "    batch_size=batch_size,\n",
        "    subset=\"training\",\n",
        "    class_mode='binary'   \n",
        ")\n",
        "val_datagen=ImageDataGenerator(rescale=1./255)\n",
        "validation_generator=datagen.flow_from_directory(\n",
        "    train_data_dir,\n",
        "    target_size=(img_width,img_height),\n",
        "    batch_size=batch_size,\n",
        "    subset=\"validation\",\n",
        "    class_mode='binary'\n",
        "\n",
        ")"
      ],
      "metadata": {
        "id": "4l3pGDj_rZRk"
      },
      "execution_count": null,
      "outputs": []
    },
    {
      "cell_type": "code",
      "source": [
        "# test_data_dir='/content/drive/MyDrive/vali_ex/'\n",
        "# test_generator = datagen.flow_from_directory(\n",
        "#         test_data_dir,\n",
        "#         target_size=(img_width,img_height),\n",
        "#         batch_size=batch_size,\n",
        "#         class_mode='binary',\n",
        "#         shuffle=True)"
      ],
      "metadata": {
        "id": "F4hc2Y2vEPVn"
      },
      "execution_count": null,
      "outputs": []
    },
    {
      "cell_type": "code",
      "source": [
        "import cv2\n",
        "import numpy as np\n",
        "import os\n",
        "from keras.preprocessing.image import ImageDataGenerator\n",
        "from keras import backend as K\n",
        "import keras\n",
        "from keras.models import Sequential, Model,load_model\n",
        "# from keras.optimizers import SGD\n",
        "from keras.callbacks import EarlyStopping,ModelCheckpoint\n",
        "from google.colab.patches import cv2_imshow\n",
        "from keras.layers import Input, Add, Dense, Activation, ZeroPadding2D, BatchNormalization, Flatten, Conv2D, AveragePooling2D, MaxPooling2D, GlobalMaxPooling2D,MaxPool2D\n",
        "from keras.preprocessing import image\n",
        "from keras.initializers import glorot_uniform"
      ],
      "metadata": {
        "id": "UtsXAg-K89B-"
      },
      "execution_count": null,
      "outputs": []
    },
    {
      "cell_type": "code",
      "source": [
        "def identity_block(X, f, filters, stage, block):\n",
        "   \n",
        "    conv_name_base = 'res' + str(stage) + block + '_branch'\n",
        "    bn_name_base = 'bn' + str(stage) + block + '_branch'\n",
        "    F1, F2, F3 = filters\n",
        "\n",
        "    X_shortcut = X\n",
        "   \n",
        "    X = Conv2D(filters=F1, kernel_size=(1, 1), strides=(1, 1), padding='valid', name=conv_name_base + '2a', kernel_initializer=glorot_uniform(seed=0))(X)\n",
        "    X = BatchNormalization(axis=3, name=bn_name_base + '2a')(X)\n",
        "    X = Activation('relu')(X)\n",
        "\n",
        "    X = Conv2D(filters=F2, kernel_size=(f, f), strides=(1, 1), padding='same', name=conv_name_base + '2b', kernel_initializer=glorot_uniform(seed=0))(X)\n",
        "    X = BatchNormalization(axis=3, name=bn_name_base + '2b')(X)\n",
        "    X = Activation('relu')(X)\n",
        "\n",
        "    X = Conv2D(filters=F3, kernel_size=(1, 1), strides=(1, 1), padding='valid', name=conv_name_base + '2c', kernel_initializer=glorot_uniform(seed=0))(X)\n",
        "    X = BatchNormalization(axis=3, name=bn_name_base + '2c')(X)\n",
        "\n",
        "    X = Add()([X, X_shortcut])# SKIP Connection\n",
        "    X = Activation('relu')(X)\n",
        "\n",
        "    return X"
      ],
      "metadata": {
        "id": "1kle3v_o8Hh4"
      },
      "execution_count": null,
      "outputs": []
    },
    {
      "cell_type": "code",
      "source": [
        "def convolutional_block(X, f, filters, stage, block, s=2):\n",
        "   \n",
        "    conv_name_base = 'res' + str(stage) + block + '_branch'\n",
        "    bn_name_base = 'bn' + str(stage) + block + '_branch'\n",
        "\n",
        "    F1, F2, F3 = filters\n",
        "\n",
        "    X_shortcut = X\n",
        "\n",
        "    X = Conv2D(filters=F1, kernel_size=(1, 1), strides=(s, s), padding='valid', name=conv_name_base + '2a', kernel_initializer=glorot_uniform(seed=0))(X)\n",
        "    X = BatchNormalization(axis=3, name=bn_name_base + '2a')(X)\n",
        "    X = Activation('relu')(X)\n",
        "\n",
        "    X = Conv2D(filters=F2, kernel_size=(f, f), strides=(1, 1), padding='same', name=conv_name_base + '2b', kernel_initializer=glorot_uniform(seed=0))(X)\n",
        "    X = BatchNormalization(axis=3, name=bn_name_base + '2b')(X)\n",
        "    X = Activation('relu')(X)\n",
        "\n",
        "    X = Conv2D(filters=F3, kernel_size=(1, 1), strides=(1, 1), padding='valid', name=conv_name_base + '2c', kernel_initializer=glorot_uniform(seed=0))(X)\n",
        "    X = BatchNormalization(axis=3, name=bn_name_base + '2c')(X)\n",
        "\n",
        "    X_shortcut = Conv2D(filters=F3, kernel_size=(1, 1), strides=(s, s), padding='valid', name=conv_name_base + '1', kernel_initializer=glorot_uniform(seed=0))(X_shortcut)\n",
        "    X_shortcut = BatchNormalization(axis=3, name=bn_name_base + '1')(X_shortcut)\n",
        "\n",
        "    X = Add()([X, X_shortcut])\n",
        "    X = Activation('relu')(X)\n",
        "\n",
        "    return X"
      ],
      "metadata": {
        "id": "3TciPe6U8I6O"
      },
      "execution_count": null,
      "outputs": []
    },
    {
      "cell_type": "code",
      "source": [
        "def ResNet50(input_shape=(192, 192, 3)):\n",
        "\n",
        "    X_input = Input(input_shape)\n",
        "\n",
        "    X = ZeroPadding2D((3, 3))(X_input)\n",
        "\n",
        "    X = Conv2D(64, (7, 7), strides=(2, 2), name='conv1', kernel_initializer=glorot_uniform(seed=0))(X)\n",
        "    X = BatchNormalization(axis=3, name='bn_conv1')(X)\n",
        "    X = Activation('relu')(X)\n",
        "    X = MaxPooling2D((3, 3), strides=(2, 2))(X)\n",
        "\n",
        "    X = convolutional_block(X, f=3, filters=[64, 64, 256], stage=2, block='a', s=1)\n",
        "    X = identity_block(X, 3, [64, 64, 256], stage=2, block='b')\n",
        "    X = identity_block(X, 3, [64, 64, 256], stage=2, block='c')\n",
        "\n",
        "\n",
        "    X = convolutional_block(X, f=3, filters=[128, 128, 512], stage=3, block='a', s=2)\n",
        "    X = identity_block(X, 3, [128, 128, 512], stage=3, block='b')\n",
        "    X = identity_block(X, 3, [128, 128, 512], stage=3, block='c')\n",
        "    X = identity_block(X, 3, [128, 128, 512], stage=3, block='d')\n",
        "\n",
        "    X = convolutional_block(X, f=3, filters=[256, 256, 1024], stage=4, block='a', s=2)\n",
        "    X = identity_block(X, 3, [256, 256, 1024], stage=4, block='b')\n",
        "    X = identity_block(X, 3, [256, 256, 1024], stage=4, block='c')\n",
        "    X = identity_block(X, 3, [256, 256, 1024], stage=4, block='d')\n",
        "    X = identity_block(X, 3, [256, 256, 1024], stage=4, block='e')\n",
        "    X = identity_block(X, 3, [256, 256, 1024], stage=4, block='f')\n",
        "\n",
        "    X = X = convolutional_block(X, f=3, filters=[512, 512, 2048], stage=5, block='a', s=2)\n",
        "    X = identity_block(X, 3, [512, 512, 2048], stage=5, block='b')\n",
        "    X = identity_block(X, 3, [512, 512, 2048], stage=5, block='c')\n",
        "\n",
        "    X = AveragePooling2D(pool_size=(2, 2), padding='same')(X)\n",
        "    \n",
        "    model = Model(inputs=X_input, outputs=X, name='ResNet50')\n",
        "\n",
        "    return model"
      ],
      "metadata": {
        "id": "Y4V0Q4118P9w"
      },
      "execution_count": null,
      "outputs": []
    },
    {
      "cell_type": "code",
      "source": [
        "base_model = ResNet50(input_shape=(192, 192, 3))"
      ],
      "metadata": {
        "id": "MZewQJzV8iXK"
      },
      "execution_count": null,
      "outputs": []
    },
    {
      "cell_type": "code",
      "source": [
        "headModel = base_model.output\n",
        "headModel = Flatten()(headModel)\n",
        "headModel=Dense(256, activation='relu', name='fc1',kernel_initializer=glorot_uniform(seed=0))(headModel)\n",
        "headModel=Dense(128, activation='relu', name='fc2',kernel_initializer=glorot_uniform(seed=0))(headModel)\n",
        "headModel = Dense( 1,activation='sigmoid', name='fc3',kernel_initializer=glorot_uniform(seed=0))(headModel)"
      ],
      "metadata": {
        "id": "3LOhHsgL94C6"
      },
      "execution_count": null,
      "outputs": []
    },
    {
      "cell_type": "code",
      "execution_count": null,
      "metadata": {
        "id": "bxdPTb_NvGDD"
      },
      "outputs": [],
      "source": [
        "model = Model(inputs=base_model.input, outputs=headModel)\n",
        "# model.summary()"
      ]
    },
    {
      "cell_type": "code",
      "source": [
        "from tensorflow.keras.optimizers import Adam, SGD\n",
        "# opt = Adam(0.01)\n",
        "opt = Adam(0.000001)\n",
        "model.compile(optimizer=opt, loss=keras.losses.binary_crossentropy, metrics=['accuracy'])"
      ],
      "metadata": {
        "id": "A3P-rQFIHY2-"
      },
      "execution_count": null,
      "outputs": []
    },
    {
      "cell_type": "code",
      "source": [
        "from keras.callbacks import History,ModelCheckpoint, EarlyStopping\n",
        "# checkpoint = ModelCheckpoint(\"/content/drive/MyDrive/Explicit_Content Dataset/\", monitor='accuracy', verbose=1, save_best_only=True,\n",
        "#                              save_weights_only=False)\n",
        "history=History()\n",
        "model.fit_generator(\n",
        "    train_generator,\n",
        "    steps_per_epoch=100,\n",
        "    epochs=50,callbacks=[history],\n",
        "    validation_data=test_generator\n",
        "    # validation_steps=2\n",
        ")"
      ],
      "metadata": {
        "colab": {
          "base_uri": "https://localhost:8080/"
        },
        "id": "5WDJS6JjwToj",
        "outputId": "44986478-8e7a-4751-b90c-4ad74adfcb9e"
      },
      "execution_count": null,
      "outputs": [
        {
          "metadata": {
            "tags": null
          },
          "name": "stderr",
          "output_type": "stream",
          "text": [
            "/usr/local/lib/python3.7/dist-packages/ipykernel_launcher.py:9: UserWarning: `Model.fit_generator` is deprecated and will be removed in a future version. Please use `Model.fit`, which supports generators.\n",
            "  if __name__ == '__main__':\n"
          ]
        },
        {
          "output_type": "stream",
          "name": "stdout",
          "text": [
            "Epoch 1/50\n",
            "100/100 [==============================] - 1924s 19s/step - loss: 0.6870 - accuracy: 0.5763 - val_loss: 0.7132 - val_accuracy: 0.4843\n",
            "Epoch 2/50\n",
            "100/100 [==============================] - 551s 6s/step - loss: 0.6744 - accuracy: 0.5987 - val_loss: 0.7088 - val_accuracy: 0.4843\n",
            "Epoch 3/50\n",
            "100/100 [==============================] - 513s 5s/step - loss: 0.6630 - accuracy: 0.6050 - val_loss: 0.6884 - val_accuracy: 0.5366\n",
            "Epoch 4/50\n",
            "100/100 [==============================] - 482s 5s/step - loss: 0.6625 - accuracy: 0.5950 - val_loss: 0.6819 - val_accuracy: 0.5483\n",
            "Epoch 5/50\n",
            "100/100 [==============================] - 445s 4s/step - loss: 0.6518 - accuracy: 0.6075 - val_loss: 0.6585 - val_accuracy: 0.6023\n",
            "Epoch 6/50\n",
            "100/100 [==============================] - 444s 4s/step - loss: 0.6426 - accuracy: 0.6100 - val_loss: 0.7200 - val_accuracy: 0.5286\n",
            "Epoch 7/50\n",
            "100/100 [==============================] - 414s 4s/step - loss: 0.6237 - accuracy: 0.6616 - val_loss: 0.6479 - val_accuracy: 0.6070\n",
            "Epoch 8/50\n",
            "100/100 [==============================] - 397s 4s/step - loss: 0.6174 - accuracy: 0.6700 - val_loss: 0.5850 - val_accuracy: 0.6838\n",
            "Epoch 9/50\n",
            "100/100 [==============================] - 378s 4s/step - loss: 0.5926 - accuracy: 0.6963 - val_loss: 0.5652 - val_accuracy: 0.7063\n",
            "Epoch 10/50\n",
            "100/100 [==============================] - 360s 4s/step - loss: 0.5935 - accuracy: 0.6762 - val_loss: 0.5608 - val_accuracy: 0.7160\n",
            "Epoch 11/50\n",
            "100/100 [==============================] - 360s 4s/step - loss: 0.5873 - accuracy: 0.7050 - val_loss: 0.5511 - val_accuracy: 0.7133\n",
            "Epoch 12/50\n",
            "100/100 [==============================] - 348s 3s/step - loss: 0.5796 - accuracy: 0.6831 - val_loss: 0.5498 - val_accuracy: 0.7213\n",
            "Epoch 13/50\n",
            "100/100 [==============================] - 336s 3s/step - loss: 0.5521 - accuracy: 0.7262 - val_loss: 0.5328 - val_accuracy: 0.7308\n",
            "Epoch 14/50\n",
            "100/100 [==============================] - 321s 3s/step - loss: 0.5649 - accuracy: 0.7113 - val_loss: 0.5340 - val_accuracy: 0.7340\n",
            "Epoch 15/50\n",
            "100/100 [==============================] - 302s 3s/step - loss: 0.5602 - accuracy: 0.7144 - val_loss: 0.5433 - val_accuracy: 0.7267\n",
            "Epoch 16/50\n",
            "100/100 [==============================] - 305s 3s/step - loss: 0.5408 - accuracy: 0.7362 - val_loss: 0.5350 - val_accuracy: 0.7379\n",
            "Epoch 17/50\n",
            "100/100 [==============================] - 293s 3s/step - loss: 0.5204 - accuracy: 0.7350 - val_loss: 0.5286 - val_accuracy: 0.7400\n",
            "Epoch 18/50\n",
            "100/100 [==============================] - 289s 3s/step - loss: 0.5400 - accuracy: 0.7237 - val_loss: 0.5839 - val_accuracy: 0.6842\n",
            "Epoch 19/50\n",
            "100/100 [==============================] - 270s 3s/step - loss: 0.5548 - accuracy: 0.7081 - val_loss: 0.5434 - val_accuracy: 0.7269\n",
            "Epoch 20/50\n",
            "100/100 [==============================] - 276s 3s/step - loss: 0.5458 - accuracy: 0.7256 - val_loss: 0.5618 - val_accuracy: 0.7275\n",
            "Epoch 21/50\n",
            "100/100 [==============================] - 272s 3s/step - loss: 0.5573 - accuracy: 0.7125 - val_loss: 0.5505 - val_accuracy: 0.7240\n",
            "Epoch 22/50\n",
            "100/100 [==============================] - 273s 3s/step - loss: 0.5397 - accuracy: 0.7287 - val_loss: 0.5169 - val_accuracy: 0.7468\n",
            "Epoch 23/50\n",
            "100/100 [==============================] - 280s 3s/step - loss: 0.5348 - accuracy: 0.7500 - val_loss: 0.5161 - val_accuracy: 0.7404\n",
            "Epoch 24/50\n",
            "100/100 [==============================] - 266s 3s/step - loss: 0.5418 - accuracy: 0.7306 - val_loss: 0.5035 - val_accuracy: 0.7515\n",
            "Epoch 25/50\n",
            "100/100 [==============================] - 249s 3s/step - loss: 0.5054 - accuracy: 0.7531 - val_loss: 0.4988 - val_accuracy: 0.7574\n",
            "Epoch 26/50\n",
            "100/100 [==============================] - 239s 2s/step - loss: 0.5002 - accuracy: 0.7619 - val_loss: 0.5024 - val_accuracy: 0.7556\n",
            "Epoch 27/50\n",
            "100/100 [==============================] - 245s 2s/step - loss: 0.5145 - accuracy: 0.7550 - val_loss: 0.5360 - val_accuracy: 0.7443\n",
            "Epoch 28/50\n",
            "100/100 [==============================] - 244s 2s/step - loss: 0.5251 - accuracy: 0.7412 - val_loss: 0.5045 - val_accuracy: 0.7546\n",
            "Epoch 29/50\n",
            "100/100 [==============================] - 248s 2s/step - loss: 0.5099 - accuracy: 0.7538 - val_loss: 0.5028 - val_accuracy: 0.7507\n",
            "Epoch 30/50\n",
            "100/100 [==============================] - 245s 2s/step - loss: 0.5022 - accuracy: 0.7525 - val_loss: 0.4874 - val_accuracy: 0.7648\n",
            "Epoch 31/50\n",
            "100/100 [==============================] - 243s 2s/step - loss: 0.5020 - accuracy: 0.7606 - val_loss: 0.5120 - val_accuracy: 0.7609\n",
            "Epoch 32/50\n",
            "100/100 [==============================] - 236s 2s/step - loss: 0.5150 - accuracy: 0.7585 - val_loss: 0.4909 - val_accuracy: 0.7681\n",
            "Epoch 33/50\n",
            "100/100 [==============================] - 238s 2s/step - loss: 0.5211 - accuracy: 0.7356 - val_loss: 0.4863 - val_accuracy: 0.7671\n",
            "Epoch 34/50\n",
            "100/100 [==============================] - 243s 2s/step - loss: 0.5200 - accuracy: 0.7469 - val_loss: 0.4774 - val_accuracy: 0.7755\n",
            "Epoch 35/50\n",
            "100/100 [==============================] - 234s 2s/step - loss: 0.4998 - accuracy: 0.7569 - val_loss: 0.5103 - val_accuracy: 0.7468\n",
            "Epoch 36/50\n",
            "100/100 [==============================] - 229s 2s/step - loss: 0.4825 - accuracy: 0.7688 - val_loss: 0.4935 - val_accuracy: 0.7613\n",
            "Epoch 37/50\n",
            "100/100 [==============================] - 225s 2s/step - loss: 0.4981 - accuracy: 0.7588 - val_loss: 0.4793 - val_accuracy: 0.7724\n",
            "Epoch 38/50\n",
            "100/100 [==============================] - 225s 2s/step - loss: 0.5133 - accuracy: 0.7494 - val_loss: 0.5307 - val_accuracy: 0.7306\n",
            "Epoch 39/50\n",
            "100/100 [==============================] - 228s 2s/step - loss: 0.4972 - accuracy: 0.7638 - val_loss: 0.4743 - val_accuracy: 0.7778\n",
            "Epoch 40/50\n",
            "100/100 [==============================] - 227s 2s/step - loss: 0.4930 - accuracy: 0.7669 - val_loss: 0.4902 - val_accuracy: 0.7659\n",
            "Epoch 41/50\n",
            "100/100 [==============================] - 221s 2s/step - loss: 0.4972 - accuracy: 0.7613 - val_loss: 0.5005 - val_accuracy: 0.7583\n",
            "Epoch 42/50\n",
            "100/100 [==============================] - 225s 2s/step - loss: 0.4891 - accuracy: 0.7694 - val_loss: 0.5159 - val_accuracy: 0.7459\n",
            "Epoch 43/50\n",
            "100/100 [==============================] - 221s 2s/step - loss: 0.4807 - accuracy: 0.7700 - val_loss: 0.5177 - val_accuracy: 0.7459\n",
            "Epoch 44/50\n",
            "100/100 [==============================] - 222s 2s/step - loss: 0.4803 - accuracy: 0.7663 - val_loss: 0.4829 - val_accuracy: 0.7718\n",
            "Epoch 45/50\n",
            "100/100 [==============================] - 224s 2s/step - loss: 0.4687 - accuracy: 0.7744 - val_loss: 0.5386 - val_accuracy: 0.7277\n",
            "Epoch 46/50\n",
            "100/100 [==============================] - 223s 2s/step - loss: 0.4954 - accuracy: 0.7588 - val_loss: 0.5476 - val_accuracy: 0.7265\n",
            "Epoch 47/50\n",
            "100/100 [==============================] - 222s 2s/step - loss: 0.4588 - accuracy: 0.7906 - val_loss: 0.4674 - val_accuracy: 0.7792\n",
            "Epoch 48/50\n",
            "100/100 [==============================] - 226s 2s/step - loss: 0.5090 - accuracy: 0.7450 - val_loss: 0.4683 - val_accuracy: 0.7732\n",
            "Epoch 49/50\n",
            "100/100 [==============================] - 223s 2s/step - loss: 0.4876 - accuracy: 0.7688 - val_loss: 0.4911 - val_accuracy: 0.7607\n",
            "Epoch 50/50\n",
            "100/100 [==============================] - 220s 2s/step - loss: 0.4782 - accuracy: 0.7706 - val_loss: 0.4682 - val_accuracy: 0.7827\n"
          ]
        },
        {
          "output_type": "execute_result",
          "data": {
            "text/plain": [
              "<keras.callbacks.History at 0x7f00908d4f90>"
            ]
          },
          "metadata": {},
          "execution_count": 14
        }
      ]
    },
    {
      "cell_type": "code",
      "source": [
        "#summarize History\n",
        "import matplotlib.pyplot as plt\n",
        "plt.plot(history.history['accuracy'])\n",
        "plt.plot(history.history['val_accuracy'])\n",
        "plt.title('model accuracy')\n",
        "plt.ylabel('accuracy')\n",
        "plt.xlabel('epoch')\n",
        "plt.legend(['train','test'],loc='upper left')\n",
        "plt.show()"
      ],
      "metadata": {
        "id": "4926rt9hf3Pm",
        "colab": {
          "base_uri": "https://localhost:8080/",
          "height": 295
        },
        "outputId": "0afcff5c-9815-44f1-b6c7-c853a13cde4d"
      },
      "execution_count": null,
      "outputs": [
        {
          "output_type": "display_data",
          "data": {
            "image/png": "[encoded data removed]",
            "text/plain": [
              "<Figure size 432x288 with 1 Axes>"
            ]
          },
          "metadata": {
            "needs_background": "light"
          }
        }
      ]
    },
    {
      "cell_type": "code",
      "source": [
        "# Loss Curves\n",
        "#plt.figure(figsize=[10,8])\n",
        "plt.plot(history.history['loss'],'r',linewidth=2.0)\n",
        "plt.plot(history.history['val_loss'],'b',linewidth=2.0)\n",
        "plt.legend(['Training loss', 'Validation Loss'],fontsize=10)\n",
        "#plt.grid()\n",
        "plt.xlabel('Epochs ',fontsize=10)\n",
        "plt.ylabel('Loss',fontsize=10)\n",
        "plt.title('Loss Curves',fontsize=10)"
      ],
      "metadata": {
        "id": "Svy6w4AQf4ps",
        "colab": {
          "base_uri": "https://localhost:8080/",
          "height": 310
        },
        "outputId": "f5d6db6f-695d-4972-e0c5-e4eab8f0ab84"
      },
      "execution_count": null,
      "outputs": [
        {
          "output_type": "execute_result",
          "data": {
            "text/plain": [
              "Text(0.5, 1.0, 'Loss Curves')"
            ]
          },
          "metadata": {},
          "execution_count": 16
        },
        {
          "output_type": "display_data",
          "data": {
            "image/png": "[encoded data removed]",
            "text/plain": [
              "<Figure size 432x288 with 1 Axes>"
            ]
          },
          "metadata": {
            "needs_background": "light"
          }
        }
      ]
    },
    {
      "cell_type": "code",
      "source": [
        ""
      ],
      "metadata": {
        "id": "qSiiXY1xfwoF"
      },
      "execution_count": null,
      "outputs": []
    },
    {
      "cell_type": "code",
      "execution_count": null,
      "metadata": {
        "colab": {
          "base_uri": "https://localhost:8080/"
        },
        "id": "QYkEmYvjq-Rw",
        "outputId": "f76dbcaf-7e07-44af-cf3a-d379aa52e8b0"
      },
      "outputs": [
        {
          "metadata": {
            "tags": null
          },
          "name": "stderr",
          "output_type": "stream",
          "text": [
            "/usr/local/lib/python3.7/dist-packages/ipykernel_launcher.py:9: UserWarning: `Model.fit_generator` is deprecated and will be removed in a future version. Please use `Model.fit`, which supports generators.\n",
            "  if __name__ == '__main__':\n"
          ]
        },
        {
          "output_type": "stream",
          "name": "stdout",
          "text": [
            "Epoch 1/50\n",
            "30/30 [==============================] - 1007s 34s/step - loss: 0.6705 - accuracy: 0.6083 - val_loss: 0.6952 - val_accuracy: 0.4718\n",
            "Epoch 2/50\n",
            "30/30 [==============================] - 185s 6s/step - loss: 0.7010 - accuracy: 0.5979 - val_loss: 0.6955 - val_accuracy: 0.4718\n",
            "Epoch 3/50\n",
            "30/30 [==============================] - 178s 6s/step - loss: 0.7234 - accuracy: 0.5542 - val_loss: 0.6985 - val_accuracy: 0.4718\n",
            "Epoch 4/50\n",
            "30/30 [==============================] - 180s 6s/step - loss: 0.6645 - accuracy: 0.6000 - val_loss: 0.7031 - val_accuracy: 0.4718\n",
            "Epoch 5/50\n",
            "30/30 [==============================] - 168s 6s/step - loss: 0.6926 - accuracy: 0.5542 - val_loss: 0.6982 - val_accuracy: 0.4695\n",
            "Epoch 6/50\n",
            "30/30 [==============================] - 168s 6s/step - loss: 0.6459 - accuracy: 0.6125 - val_loss: 0.7160 - val_accuracy: 0.4718\n",
            "Epoch 7/50\n",
            "30/30 [==============================] - 162s 5s/step - loss: 0.6542 - accuracy: 0.5813 - val_loss: 0.7574 - val_accuracy: 0.4718\n",
            "Epoch 8/50\n",
            "30/30 [==============================] - 166s 6s/step - loss: 0.6236 - accuracy: 0.6333 - val_loss: 0.7059 - val_accuracy: 0.4752\n",
            "Epoch 9/50\n",
            "30/30 [==============================] - 169s 6s/step - loss: 0.6429 - accuracy: 0.6250 - val_loss: 0.6947 - val_accuracy: 0.5140\n",
            "Epoch 10/50\n",
            "30/30 [==============================] - 157s 5s/step - loss: 0.6371 - accuracy: 0.6250 - val_loss: 0.6916 - val_accuracy: 0.5258\n",
            "Epoch 11/50\n",
            "30/30 [==============================] - 154s 5s/step - loss: 0.6075 - accuracy: 0.6646 - val_loss: 0.7260 - val_accuracy: 0.4752\n",
            "Epoch 12/50\n",
            "30/30 [==============================] - 149s 5s/step - loss: 0.6054 - accuracy: 0.6687 - val_loss: 0.7026 - val_accuracy: 0.5116\n",
            "Epoch 13/50\n",
            "30/30 [==============================] - 152s 5s/step - loss: 0.6137 - accuracy: 0.6604 - val_loss: 0.7010 - val_accuracy: 0.5103\n",
            "Epoch 14/50\n",
            "30/30 [==============================] - 146s 5s/step - loss: 0.6446 - accuracy: 0.6562 - val_loss: 0.6643 - val_accuracy: 0.6111\n",
            "Epoch 15/50\n",
            "30/30 [==============================] - 148s 5s/step - loss: 0.6336 - accuracy: 0.6417 - val_loss: 0.6559 - val_accuracy: 0.6175\n",
            "Epoch 16/50\n",
            "30/30 [==============================] - 147s 5s/step - loss: 0.6350 - accuracy: 0.6083 - val_loss: 0.6470 - val_accuracy: 0.6371\n",
            "Epoch 17/50\n",
            "30/30 [==============================] - 138s 5s/step - loss: 0.6275 - accuracy: 0.6354 - val_loss: 0.6364 - val_accuracy: 0.6435\n",
            "Epoch 18/50\n",
            "30/30 [==============================] - 138s 5s/step - loss: 0.6100 - accuracy: 0.6708 - val_loss: 0.6216 - val_accuracy: 0.6334\n",
            "Epoch 19/50\n",
            "30/30 [==============================] - 136s 5s/step - loss: 0.6632 - accuracy: 0.6229 - val_loss: 0.6445 - val_accuracy: 0.6020\n",
            "Epoch 20/50\n",
            "30/30 [==============================] - 136s 5s/step - loss: 0.6286 - accuracy: 0.6417 - val_loss: 0.5984 - val_accuracy: 0.6863\n",
            "Epoch 21/50\n",
            "30/30 [==============================] - 135s 5s/step - loss: 0.5821 - accuracy: 0.6979 - val_loss: 0.6041 - val_accuracy: 0.6449\n",
            "Epoch 22/50\n",
            "30/30 [==============================] - 130s 4s/step - loss: 0.6094 - accuracy: 0.6667 - val_loss: 0.5998 - val_accuracy: 0.6536\n",
            "Epoch 23/50\n",
            "30/30 [==============================] - 127s 4s/step - loss: 0.6093 - accuracy: 0.6542 - val_loss: 0.6158 - val_accuracy: 0.6334\n",
            "Epoch 24/50\n",
            "30/30 [==============================] - 126s 4s/step - loss: 0.5892 - accuracy: 0.6792 - val_loss: 0.5721 - val_accuracy: 0.6833\n",
            "Epoch 25/50\n",
            "30/30 [==============================] - ETA: 0s - loss: 0.5856 - accuracy: 0.7021Epoch 26/50\n",
            "30/30 [==============================] - 126s 4s/step - loss: 0.5607 - accuracy: 0.7312 - val_loss: 0.5446 - val_accuracy: 0.7298\n",
            "Epoch 27/50\n",
            "30/30 [==============================] - 124s 4s/step - loss: 0.5463 - accuracy: 0.7167 - val_loss: 0.5369 - val_accuracy: 0.7302\n",
            "Epoch 28/50\n",
            "30/30 [==============================] - 122s 4s/step - loss: 0.5776 - accuracy: 0.7125 - val_loss: 0.5493 - val_accuracy: 0.7218\n",
            "Epoch 29/50\n",
            "30/30 [==============================] - 123s 4s/step - loss: 0.5982 - accuracy: 0.6812 - val_loss: 0.5795 - val_accuracy: 0.6951\n",
            "Epoch 30/50\n",
            "30/30 [==============================] - 121s 4s/step - loss: 0.5830 - accuracy: 0.6917 - val_loss: 0.5356 - val_accuracy: 0.7403\n",
            "Epoch 31/50\n",
            "30/30 [==============================] - 113s 4s/step - loss: 0.5576 - accuracy: 0.7188 - val_loss: 0.5537 - val_accuracy: 0.7066\n",
            "Epoch 32/50\n",
            "30/30 [==============================] - 112s 4s/step - loss: 0.5546 - accuracy: 0.7146 - val_loss: 0.5396 - val_accuracy: 0.7282\n",
            "Epoch 33/50\n",
            "30/30 [==============================] - 120s 4s/step - loss: 0.5655 - accuracy: 0.7146 - val_loss: 0.5427 - val_accuracy: 0.7255\n",
            "Epoch 34/50\n",
            "30/30 [==============================] - 117s 4s/step - loss: 0.6023 - accuracy: 0.6938 - val_loss: 0.5418 - val_accuracy: 0.7160\n",
            "Epoch 35/50\n",
            "30/30 [==============================] - 110s 4s/step - loss: 0.5997 - accuracy: 0.6854 - val_loss: 0.5943 - val_accuracy: 0.6691\n",
            "Epoch 36/50\n",
            "30/30 [==============================] - 113s 4s/step - loss: 0.6056 - accuracy: 0.6792 - val_loss: 0.5246 - val_accuracy: 0.7454\n",
            "Epoch 37/50\n",
            "30/30 [==============================] - 112s 4s/step - loss: 0.5774 - accuracy: 0.6958 - val_loss: 0.6087 - val_accuracy: 0.6607\n",
            "Epoch 38/50\n",
            "30/30 [==============================] - 114s 4s/step - loss: 0.5723 - accuracy: 0.7167 - val_loss: 0.5153 - val_accuracy: 0.7558\n",
            "Epoch 39/50\n",
            "30/30 [==============================] - 111s 4s/step - loss: 0.5332 - accuracy: 0.7417 - val_loss: 0.5036 - val_accuracy: 0.7595\n",
            "Epoch 40/50\n",
            "30/30 [==============================] - 112s 4s/step - loss: 0.5146 - accuracy: 0.7500 - val_loss: 0.5238 - val_accuracy: 0.7400\n",
            "Epoch 41/50\n",
            "30/30 [==============================] - 112s 4s/step - loss: 0.5372 - accuracy: 0.7208 - val_loss: 0.5076 - val_accuracy: 0.7538\n",
            "Epoch 42/50\n",
            "30/30 [==============================] - 104s 4s/step - loss: 0.5498 - accuracy: 0.7229 - val_loss: 0.5636 - val_accuracy: 0.7052\n",
            "Epoch 43/50\n",
            "30/30 [==============================] - 110s 4s/step - loss: 0.5658 - accuracy: 0.6875 - val_loss: 0.5055 - val_accuracy: 0.7619\n",
            "Epoch 44/50\n",
            "30/30 [==============================] - 106s 4s/step - loss: 0.5378 - accuracy: 0.7396 - val_loss: 0.5098 - val_accuracy: 0.7578\n",
            "Epoch 45/50\n",
            "30/30 [==============================] - 112s 4s/step - loss: 0.5252 - accuracy: 0.7458 - val_loss: 0.5352 - val_accuracy: 0.7285\n",
            "Epoch 46/50\n",
            "30/30 [==============================] - 104s 4s/step - loss: 0.5206 - accuracy: 0.7333 - val_loss: 0.5241 - val_accuracy: 0.7406\n",
            "Epoch 47/50\n",
            "30/30 [==============================] - 105s 4s/step - loss: 0.5426 - accuracy: 0.7125 - val_loss: 0.5120 - val_accuracy: 0.7562\n",
            "Epoch 48/50\n",
            "30/30 [==============================] - 110s 4s/step - loss: 0.5402 - accuracy: 0.7271 - val_loss: 0.5133 - val_accuracy: 0.7484\n",
            "Epoch 49/50\n",
            "30/30 [==============================] - 106s 4s/step - loss: 0.5324 - accuracy: 0.7250 - val_loss: 0.5185 - val_accuracy: 0.7467\n",
            "Epoch 50/50\n",
            "30/30 [==============================] - 99s 3s/step - loss: 0.5353 - accuracy: 0.7354 - val_loss: 0.5102 - val_accuracy: 0.7558\n"
          ]
        },
        {
          "output_type": "execute_result",
          "data": {
            "text/plain": [
              "<keras.callbacks.History at 0x7fc9fc3bb3d0>"
            ]
          },
          "metadata": {},
          "execution_count": 12
        }
      ],
      "source": [
        "from keras.callbacks import History,ModelCheckpoint, EarlyStopping\n",
        "# checkpoint = ModelCheckpoint(\"/content/drive/MyDrive/Explicit_Content Dataset/\", monitor='accuracy', verbose=1, save_best_only=True,\n",
        "#                              save_weights_only=False)\n",
        "history=History()\n",
        "model.fit_generator(\n",
        "    train_generator,\n",
        "    steps_per_epoch=30,\n",
        "    epochs=50,callbacks=[history],\n",
        "    validation_data=validation_generator\n",
        "    # validation_steps=2\n",
        ")"
      ]
    },
    {
      "cell_type": "code",
      "source": [
        "#summarize History\n",
        "import matplotlib.pyplot as plt\n",
        "plt.plot(history.history['accuracy'])\n",
        "plt.plot(history.history['val_accuracy'])\n",
        "plt.title('model accuracy')\n",
        "plt.ylabel('accuracy')\n",
        "plt.xlabel('epoch')\n",
        "plt.legend(['train','test'],loc='upper left')\n",
        "plt.show()"
      ],
      "metadata": {
        "colab": {
          "base_uri": "https://localhost:8080/",
          "height": 295
        },
        "id": "YCFAyhXYjPyU",
        "outputId": "d2e0b20e-4463-44ab-bc3e-a3add4837ed5"
      },
      "execution_count": null,
      "outputs": [
        {
          "output_type": "display_data",
          "data": {
            "image/png": "[encoded data removed]",
            "text/plain": [
              "<Figure size 432x288 with 1 Axes>"
            ]
          },
          "metadata": {
            "needs_background": "light"
          }
        }
      ]
    },
    {
      "cell_type": "code",
      "source": [
        "# Loss Curves\n",
        "#plt.figure(figsize=[10,8])\n",
        "plt.plot(history.history['loss'],'r',linewidth=2.0)\n",
        "plt.plot(history.history['val_loss'],'b',linewidth=2.0)\n",
        "plt.legend(['Training loss', 'Validation Loss'],fontsize=10)\n",
        "#plt.grid()\n",
        "plt.xlabel('Epochs ',fontsize=10)\n",
        "plt.ylabel('Loss',fontsize=10)\n",
        "plt.title('Loss Curves',fontsize=10)\n",
        " "
      ],
      "metadata": {
        "colab": {
          "base_uri": "https://localhost:8080/",
          "height": 310
        },
        "id": "4z2wK63MoWZv",
        "outputId": "b893bbbc-22c0-4c80-c5ba-0d40b6287942"
      },
      "execution_count": null,
      "outputs": [
        {
          "output_type": "execute_result",
          "data": {
            "text/plain": [
              "Text(0.5, 1.0, 'Loss Curves')"
            ]
          },
          "metadata": {},
          "execution_count": 15
        },
        {
          "output_type": "display_data",
          "data": {
            "image/png": "[encoded data removed]",
            "text/plain": [
              "<Figure size 432x288 with 1 Axes>"
            ]
          },
          "metadata": {
            "needs_background": "light"
          }
        }
      ]
    },
    {
      "cell_type": "code",
      "source": [
        "Test_data_dir='/content/drive/MyDrive/test/'\n",
        "Test_generator = datagen.flow_from_directory(\n",
        "        Test_data_dir,\n",
        "        target_size=(img_width,img_height),\n",
        "        batch_size=batch_size,\n",
        "        class_mode='binary',\n",
        "        shuffle=True)"
      ],
      "metadata": {
        "id": "DC2bAL0kgJw8"
      },
      "execution_count": null,
      "outputs": []
    },
    {
      "cell_type": "code",
      "source": [
        "result = model.evaluate(Test_generator ,batch_size=batch_size)\n",
        "print(\"test_loss, test accuracy\",result)"
      ],
      "metadata": {
        "id": "f2qbplMGg1EF"
      },
      "execution_count": null,
      "outputs": []
    },
    {
      "cell_type": "code",
      "source": [
        "class_labels = Test_generator.class_indices\n",
        "class_labels = {v: k for k, v in class_labels.items()}\n",
        "classes = list(class_labels.values())"
      ],
      "metadata": {
        "id": "28WU7XypopYp"
      },
      "execution_count": null,
      "outputs": []
    },
    {
      "cell_type": "code",
      "source": [
        "y_pred = model.predict_generator(Test_generator)\n",
        "# y_pred_label = np.argmax(y_pred, axis=1)\n",
        "Test_generator.classes.shape,y_pred_label.shape"
      ],
      "metadata": {
        "colab": {
          "base_uri": "https://localhost:8080/"
        },
        "id": "MtuuqGogotVD",
        "outputId": "fcf8653d-3196-438b-9174-e1bcb114dee8"
      },
      "execution_count": null,
      "outputs": [
        {
          "output_type": "stream",
          "name": "stderr",
          "text": [
            "/usr/local/lib/python3.7/dist-packages/ipykernel_launcher.py:1: UserWarning: `Model.predict_generator` is deprecated and will be removed in a future version. Please use `Model.predict`, which supports generators.\n",
            "  \"\"\"Entry point for launching an IPython kernel.\n"
          ]
        }
      ]
    },
    {
      "cell_type": "code",
      "source": [
        ""
      ],
      "metadata": {
        "id": "L7ij4Il3gq8A"
      },
      "execution_count": null,
      "outputs": []
    }
  ],
  "metadata": {
    "colab": {
      "collapsed_sections": [],
      "name": "Resnet_50_classifiction.ipynb",
      "provenance": []
    },
    "kernelspec": {
      "display_name": "Python 3",
      "name": "python3"
    },
    "language_info": {
      "name": "python"
    }
  },
  "nbformat": 4,
  "nbformat_minor": 0
}